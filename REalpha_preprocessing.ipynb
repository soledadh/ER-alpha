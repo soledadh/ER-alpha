{
 "cells": [
  {
   "cell_type": "code",
   "execution_count": null,
   "metadata": {},
   "outputs": [],
   "source": [
    "df_EC"
   ]
  },
  {
   "cell_type": "code",
   "execution_count": null,
   "metadata": {},
   "outputs": [],
   "source": [
    "df_EC50.dropna(subset=['standard_value','canonical_smiles'])"
   ]
  },
  {
   "cell_type": "code",
   "execution_count": null,
   "metadata": {},
   "outputs": [],
   "source": [
    "len(df_EC50.canonical_smiles.unique())"
   ]
  },
  {
   "cell_type": "code",
   "execution_count": null,
   "metadata": {},
   "outputs": [],
   "source": [
    "df2_nr = df_EC50.drop_duplicates(['canonical_smiles'])\n",
    "df2_nr"
   ]
  },
  {
   "cell_type": "code",
   "execution_count": null,
   "metadata": {},
   "outputs": [],
   "source": [
    "selection = ['molecule_chembl_id','canonical_smiles','standard_value']\n",
    "df3 = df2_nr[selection]\n",
    "df3"
   ]
  },
  {
   "cell_type": "code",
   "execution_count": null,
   "metadata": {},
   "outputs": [],
   "source": [
    "bioactivity_threshold = []\n",
    "for i in df4.standard_value:\n",
    "  if float(i) >= 10000:\n",
    "    bioactivity_threshold.append(\"inactive\")\n",
    "  elif float(i) <= 1000:\n",
    "    bioactivity_threshold.append(\"active\")\n",
    "  else:\n",
    "    bioactivity_threshold.append(\"intermediate\")"
   ]
  }
 ],
 "metadata": {
  "language_info": {
   "name": "python"
  },
  "orig_nbformat": 4
 },
 "nbformat": 4,
 "nbformat_minor": 2
}
